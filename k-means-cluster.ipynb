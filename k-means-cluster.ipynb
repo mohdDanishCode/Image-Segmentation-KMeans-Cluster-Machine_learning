{
 "cells": [
  {
   "cell_type": "code",
   "execution_count": 97,
   "metadata": {},
   "outputs": [],
   "source": [
    "import numpy as np"
   ]
  },
  {
   "cell_type": "code",
   "execution_count": 98,
   "metadata": {},
   "outputs": [],
   "source": [
    "import matplotlib.pyplot as plt"
   ]
  },
  {
   "cell_type": "code",
   "execution_count": 99,
   "metadata": {},
   "outputs": [],
   "source": [
    "from sklearn.datasets import make_blobs"
   ]
  },
  {
   "cell_type": "code",
   "execution_count": 100,
   "metadata": {},
   "outputs": [],
   "source": [
    "X,y = make_blobs?"
   ]
  },
  {
   "cell_type": "code",
   "execution_count": 110,
   "metadata": {},
   "outputs": [],
   "source": [
    "X,y = make_blobs(n_samples=500, n_features=2, centers=5,  random_state=3)"
   ]
  },
  {
   "cell_type": "code",
   "execution_count": 111,
   "metadata": {},
   "outputs": [
    {
     "data": {
      "image/png": "[encoded data removed]",
      "text/plain": [
       "<Figure size 432x288 with 1 Axes>"
      ]
     },
     "metadata": {
      "needs_background": "light"
     },
     "output_type": "display_data"
    }
   ],
   "source": [
    "plt.figure(0)\n",
    "plt.grid(\"on\")\n",
    "plt.scatter(X[:,0],X[:,1])\n",
    "plt.show()"
   ]
  },
  {
   "cell_type": "code",
   "execution_count": 112,
   "metadata": {},
   "outputs": [],
   "source": [
    "k=5\n",
    "color=[\"green\",\"red\",\"blue\",\"yellow\",\"orange\"]\n",
    "clusters={}\n",
    "\n",
    "for cluster_index in range(k):\n",
    "    center= 10*(2*np.random.random((X.shape[1],))-1)\n",
    "    points= []\n",
    "    \n",
    "    cluster={\n",
    "        'center':center,\n",
    "        'points':points,\n",
    "        'color' :color[cluster_index]\n",
    "         }\n",
    "\n",
    "    clusters[cluster_index] = cluster\n",
    "\n",
    "\n",
    "\n"
   ]
  },
  {
   "cell_type": "code",
   "execution_count": 113,
   "metadata": {},
   "outputs": [
    {
     "data": {
      "text/plain": [
       "{0: {'center': array([-3.28875592,  4.66804999]),\n",
       "  'points': [],\n",
       "  'color': 'green'},\n",
       " 1: {'center': array([-1.62526898,  5.51737285]),\n",
       "  'points': [],\n",
       "  'color': 'red'},\n",
       " 2: {'center': array([-6.85615366, -1.52091717]),\n",
       "  'points': [],\n",
       "  'color': 'blue'},\n",
       " 3: {'center': array([ 4.4212085 , -4.38775652]),\n",
       "  'points': [],\n",
       "  'color': 'yellow'},\n",
       " 4: {'center': array([ 1.58288229, -1.35068516]),\n",
       "  'points': [],\n",
       "  'color': 'orange'}}"
      ]
     },
     "execution_count": 113,
     "metadata": {},
     "output_type": "execute_result"
    }
   ],
   "source": [
    "    clusters"
   ]
  },
  {
   "cell_type": "code",
   "execution_count": 114,
   "metadata": {},
   "outputs": [],
   "source": [
    "def distance(v1,v2):\n",
    "    return np.sqrt(np.sum((v1-v2)**2))"
   ]
  },
  {
   "cell_type": "code",
   "execution_count": 133,
   "metadata": {},
   "outputs": [],
   "source": [
    "def assignPointToCluster(clusters):\n",
    "    for ix in range(X.shape[0]):\n",
    "        dist = []\n",
    "        curr_x = X[ix]\n",
    "\n",
    "        for kx in range(k):\n",
    "            d = distance(curr_x,clusters[kx]['center'])\n",
    "            dist.append(d)\n",
    "\n",
    "        current_cluster = np.argmin(dist)\n",
    "        clusters[current_cluster]['points'].append(curr_x)\n",
    "\n",
    "    \n",
    "def updateCluster(clusters):\n",
    "    pts = np.array(clusters[kx]['points'])\n",
    "    \n",
    "    if pts.shape[0]>0:\n",
    "        new_u = pts.mean(axis=0)\n",
    "        clusters[kx]['center'] = new_u\n",
    "        clusters[kx]['points']=[]\n",
    "\n",
    "\n",
    "def plotClusters(clusters):\n",
    "    for kx in range(k):\n",
    "        pts=np.array(clusters[kx]['points'])\n",
    "        \n",
    "        \n",
    "        try:\n",
    "            plt.scatter(pts[:,0],pts[:,1],color=clusters[kx]['color'])\n",
    "            \n",
    "        except:\n",
    "            pass\n",
    "            \n",
    "            \n",
    "        uk= clusters[kx]['center']\n",
    "        plt.scatter(uk[0],uk[1],color=\"black\",marker=\"*\")\n",
    "        "
   ]
  },
  {
   "cell_type": "code",
   "execution_count": 135,
   "metadata": {},
   "outputs": [],
   "source": [
    "assignPointToCluster(clusters)\n"
   ]
  },
  {
   "cell_type": "code",
   "execution_count": 136,
   "metadata": {},
   "outputs": [
    {
     "data": {
      "image/png": "[encoded data removed]",
      "text/plain": [
       "<Figure size 432x288 with 1 Axes>"
      ]
     },
     "metadata": {
      "needs_background": "light"
     },
     "output_type": "display_data"
    }
   ],
   "source": [
    "plotClusters(clusters)"
   ]
  },
  {
   "cell_type": "code",
   "execution_count": 134,
   "metadata": {},
   "outputs": [],
   "source": [
    "updateCluster(clusters)"
   ]
  },
  {
   "cell_type": "code",
   "execution_count": null,
   "metadata": {},
   "outputs": [],
   "source": []
  }
 ],
 "metadata": {
  "kernelspec": {
   "display_name": "Python 3",
   "language": "python",
   "name": "python3"
  },
  "language_info": {
   "codemirror_mode": {
    "name": "ipython",
    "version": 3
   },
   "file_extension": ".py",
   "mimetype": "text/x-python",
   "name": "python",
   "nbconvert_exporter": "python",
   "pygments_lexer": "ipython3",
   "version": "3.7.1"
  }
 },
 "nbformat": 4,
 "nbformat_minor": 2
}
